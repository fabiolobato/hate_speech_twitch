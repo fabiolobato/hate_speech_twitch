{
 "cells": [
  {
   "cell_type": "code",
   "execution_count": null,
   "metadata": {
    "_cell_guid": "819e2321-6a8d-4122-9927-541ded63f81d",
    "_uuid": "bdd4809b-9501-4e39-82bf-eb97565e31c6",
    "papermill": {
     "duration": 1.202742,
     "end_time": "2020-08-13T16:47:36.908154",
     "exception": false,
     "start_time": "2020-08-13T16:47:35.705412",
     "status": "completed"
    },
    "tags": []
   },
   "outputs": [],
   "source": [
    "import numpy as np\n",
    "import pandas as pd\n",
    "import pickle\n",
    "import tensorflow as tf\n",
    "from wordcloud import WordCloud, STOPWORDS\n",
    "import matplotlib.pyplot as plt\n",
    "from tensorflow.keras.preprocessing import text, sequence\n",
    "from tensorflow.keras.models import Sequential\n",
    "from tensorflow.keras.layers import Dense, Dropout, Activation\n",
    "from tensorflow.keras.layers import Embedding\n",
    "from tensorflow.keras.layers import Conv1D, GlobalMaxPooling1D, MaxPooling1D\n",
    "from sklearn.model_selection import train_test_split\n",
    "from sklearn.metrics import accuracy_score, f1_score, confusion_matrix\n",
    "import seaborn as sns\n",
    "plt.style.use('fivethirtyeight')\n",
    "print(tf.__version__)\n",
    "\n",
    "import os\n",
    "for dirname, _, filenames in os.walk('AuxData'):\n",
    "    for filename in filenames:\n",
    "        print(filename)"
   ]
  },
  {
   "cell_type": "code",
   "execution_count": null,
   "metadata": {
    "_cell_guid": "3311d4ed-2f8a-4bc9-8369-aae08fc75dcd",
    "_uuid": "cc610dc8-66bb-480c-baab-2bb06f823acb",
    "papermill": {
     "duration": 0.824308,
     "end_time": "2020-08-13T16:47:37.751693",
     "exception": false,
     "start_time": "2020-08-13T16:47:36.927385",
     "status": "completed"
    },
    "tags": []
   },
   "outputs": [],
   "source": [
    "# Load data\n",
    "train_df = pd.read_csv('AuxData/toxic_train.csv')\n",
    "train_df.head()"
   ]
  },
  {
   "cell_type": "code",
   "execution_count": null,
   "metadata": {
    "_cell_guid": "506bc715-1833-4d2c-867d-5d03cac385f2",
    "_uuid": "69fe4e84-c84a-4cfa-8405-e62ae7f397cb",
    "papermill": {
     "duration": 0.044896,
     "end_time": "2020-08-13T16:47:37.815549",
     "exception": false,
     "start_time": "2020-08-13T16:47:37.770653",
     "status": "completed"
    },
    "tags": []
   },
   "outputs": [],
   "source": [
    "train_df.sample(10,random_state=1)"
   ]
  },
  {
   "cell_type": "code",
   "execution_count": null,
   "metadata": {
    "_cell_guid": "27ab8e28-a368-4d45-8837-19063f0cfa33",
    "_uuid": "5420e167-f131-4ba8-84f5-5c1ffb12323b",
    "papermill": {
     "duration": 0.031479,
     "end_time": "2020-08-13T16:47:37.866637",
     "exception": false,
     "start_time": "2020-08-13T16:47:37.835158",
     "status": "completed"
    },
    "tags": []
   },
   "outputs": [],
   "source": [
    "x = train_df['comment_text']\n",
    "y = train_df['toxic']"
   ]
  },
  {
   "cell_type": "code",
   "execution_count": null,
   "metadata": {
    "_cell_guid": "30f64509-60b4-4fa3-b7d0-be11fd635d92",
    "_uuid": "cb03ee90-56c6-4c6e-9d0e-7c882def316f",
    "papermill": {
     "duration": 0.040969,
     "end_time": "2020-08-13T16:47:37.928606",
     "exception": false,
     "start_time": "2020-08-13T16:47:37.887637",
     "status": "completed"
    },
    "tags": []
   },
   "outputs": [],
   "source": [
    "# View some toxic comments\n",
    "train_df[train_df.toxic==1].sample(5)"
   ]
  },
  {
   "cell_type": "code",
   "execution_count": null,
   "metadata": {
    "_cell_guid": "d26fcff8-9b24-4b4c-ad98-387ec82e8007",
    "_uuid": "5e9435ff-bacd-4262-97be-58e6760c0d96",
    "papermill": {
     "duration": 0.405867,
     "end_time": "2020-08-13T16:47:39.898713",
     "exception": false,
     "start_time": "2020-08-13T16:47:39.492846",
     "status": "completed"
    },
    "tags": []
   },
   "outputs": [],
   "source": [
    "# Plot frequency of toxic comments\n",
    "fig = sns.distplot(train_df['toxic'], kde=False)\n",
    "plt.xlabel(\"\\nClasse\")\n",
    "plt.ylabel(\"Comentários\\n\")\n",
    "plt.title(\"Distribuição dos comentários tóxicos\\n\")\n",
    "plt.show(fig)"
   ]
  },
  {
   "cell_type": "code",
   "execution_count": null,
   "metadata": {
    "_cell_guid": "863cba13-a5da-49af-b7c1-7bc04aad5d22",
    "_uuid": "a6ea4d06-a734-409a-a957-9bf57014010f",
    "papermill": {
     "duration": 0.049368,
     "end_time": "2020-08-13T16:47:39.977363",
     "exception": false,
     "start_time": "2020-08-13T16:47:39.927995",
     "status": "completed"
    },
    "tags": []
   },
   "outputs": [],
   "source": [
    "train_df['toxic'].value_counts()"
   ]
  },
  {
   "cell_type": "code",
   "execution_count": null,
   "metadata": {
    "_cell_guid": "c3ab0919-433c-4643-b08b-88b454868b72",
    "_uuid": "0a2fd35b-1b51-4818-a497-eea596126783",
    "papermill": {
     "duration": 0.042248,
     "end_time": "2020-08-13T16:47:40.048693",
     "exception": false,
     "start_time": "2020-08-13T16:47:40.006445",
     "status": "completed"
    },
    "tags": []
   },
   "outputs": [],
   "source": [
    "max_features = 20000\n",
    "max_text_length = 400"
   ]
  },
  {
   "cell_type": "code",
   "execution_count": null,
   "metadata": {
    "_cell_guid": "e07421eb-081c-49cd-84af-7fc27e088363",
    "_uuid": "2d549233-4043-4fd8-a4ae-8604377451d8",
    "papermill": {
     "duration": 16.044887,
     "end_time": "2020-08-13T16:47:56.123343",
     "exception": false,
     "start_time": "2020-08-13T16:47:40.078456",
     "status": "completed"
    },
    "tags": []
   },
   "outputs": [],
   "source": [
    "x_tokenizer = text.Tokenizer(max_features)\n",
    "x_tokenizer.fit_on_texts(list(x))"
   ]
  },
  {
   "cell_type": "code",
   "execution_count": null,
   "metadata": {
    "_cell_guid": "4f7d3353-d236-4ceb-8652-2ad552aff9a3",
    "_uuid": "b440db26-5f83-4feb-8ff8-c52f12b20d6c",
    "papermill": {
     "duration": 17.30338,
     "end_time": "2020-08-13T16:48:13.968876",
     "exception": false,
     "start_time": "2020-08-13T16:47:56.665496",
     "status": "completed"
    },
    "tags": []
   },
   "outputs": [],
   "source": [
    "x_tokenized = x_tokenizer.texts_to_sequences(x)\n",
    "x_train_val= sequence.pad_sequences(x_tokenized, maxlen=max_text_length)"
   ]
  },
  {
   "cell_type": "code",
   "execution_count": null,
   "metadata": {
    "_cell_guid": "755ec63e-326a-48bc-b402-aea251c9c562",
    "_uuid": "d765af7b-6558-4d29-be1f-609c3a97c355",
    "papermill": {
     "duration": 21.922527,
     "end_time": "2020-08-13T16:48:35.921298",
     "exception": false,
     "start_time": "2020-08-13T16:48:13.998771",
     "status": "completed"
    },
    "tags": []
   },
   "outputs": [],
   "source": [
    "embedding_dim =100\n",
    "embeddings_index = dict()\n",
    "f = open('../Datasets/hate-speech-detection/glove.6B.100d.txt', encoding='utf-8')\n",
    "for line in f:\n",
    "    values = line.split()\n",
    "    word = values[0]\n",
    "    coefs = np.asarray(values[1:],dtype='float32')\n",
    "    embeddings_index[word]= coefs\n",
    "f.close()\n",
    "print(f'Found {len(embeddings_index)} word vectors')"
   ]
  },
  {
   "cell_type": "code",
   "execution_count": null,
   "metadata": {
    "_cell_guid": "1f470cf3-ebb5-4f31-9ccd-54ed838dd49a",
    "_uuid": "24ef3e83-b6a4-44e6-b6cf-39647eb4cfd4",
    "papermill": {
     "duration": 0.128925,
     "end_time": "2020-08-13T16:48:36.082431",
     "exception": false,
     "start_time": "2020-08-13T16:48:35.953506",
     "status": "completed"
    },
    "tags": []
   },
   "outputs": [],
   "source": [
    "embedding_matrix= np.zeros((max_features,embedding_dim))\n",
    "for word, index in x_tokenizer.word_index.items():\n",
    "    if index>max_features-1:\n",
    "        break\n",
    "    else:\n",
    "        embedding_vector = embeddings_index.get(word)\n",
    "        if embedding_vector is not None:\n",
    "            embedding_matrix[index]= embedding_vector"
   ]
  },
  {
   "cell_type": "markdown",
   "metadata": {
    "_cell_guid": "a1acb3c3-e055-4bee-b4b2-1c17eae9dd55",
    "_uuid": "7c00eea4-b25b-4e62-aead-94b0265e9d17",
    "papermill": {
     "duration": 0.03353,
     "end_time": "2020-08-13T16:48:36.147832",
     "exception": false,
     "start_time": "2020-08-13T16:48:36.114302",
     "status": "completed"
    },
    "tags": []
   },
   "source": [
    "# Building Model"
   ]
  },
  {
   "cell_type": "code",
   "execution_count": null,
   "metadata": {
    "_cell_guid": "7281f0c9-8cac-4c5d-995b-fe0b1adfc77d",
    "_uuid": "9110dfc6-5fe2-4713-a157-52ebc17a2486",
    "papermill": {
     "duration": 0.045046,
     "end_time": "2020-08-13T16:48:36.225818",
     "exception": false,
     "start_time": "2020-08-13T16:48:36.180772",
     "status": "completed"
    },
    "tags": []
   },
   "outputs": [],
   "source": [
    "filters     = 250\n",
    "kernel_size = 3\n",
    "hidden_dims = 250"
   ]
  },
  {
   "cell_type": "code",
   "execution_count": null,
   "metadata": {
    "_cell_guid": "16091484-afa7-4e61-8208-6f7579e35e2f",
    "_uuid": "7406d478-98ab-43d5-a388-2a2cce7a2a1f",
    "papermill": {
     "duration": 0.653436,
     "end_time": "2020-08-13T16:48:36.911412",
     "exception": false,
     "start_time": "2020-08-13T16:48:36.257976",
     "status": "completed"
    },
    "tags": []
   },
   "outputs": [],
   "source": [
    "model = Sequential()\n",
    "model.add(Embedding(max_features,\n",
    "                    embedding_dim,\n",
    "                    embeddings_initializer=tf.keras.initializers.Constant(embedding_matrix),\n",
    "                    trainable=False))\n",
    "model.add(Dropout(0.2))\n",
    "model.add(Conv1D(filters,\n",
    "                 kernel_size,\n",
    "                 padding='valid',\n",
    "                 activation='relu'))\n",
    "model.add(MaxPooling1D())\n",
    "model.add(Conv1D(filters,\n",
    "                 5,\n",
    "                 padding='valid',\n",
    "                 activation='relu'))\n",
    "model.add(GlobalMaxPooling1D())\n",
    "model.add(Dense(hidden_dims, activation='relu'))\n",
    "model.add(Dropout(0.2))\n",
    "\n",
    "model.add(Dense(1, activation='sigmoid'))\n",
    "model.summary()"
   ]
  },
  {
   "cell_type": "markdown",
   "metadata": {
    "_cell_guid": "23f8a8c3-91dc-44fc-8e78-e032a3ac4368",
    "_uuid": "18a7d9d6-e184-4c6a-ab01-6ec1da90f850",
    "papermill": {
     "duration": 0.030814,
     "end_time": "2020-08-13T16:48:36.973174",
     "exception": false,
     "start_time": "2020-08-13T16:48:36.942360",
     "status": "completed"
    },
    "tags": []
   },
   "source": [
    "# Compiling the Model"
   ]
  },
  {
   "cell_type": "code",
   "execution_count": null,
   "metadata": {
    "_cell_guid": "5e5c5689-62c0-4cb3-85e0-92e850a94b3e",
    "_uuid": "011274f9-0ece-4220-be37-b1af2d29a550",
    "papermill": {
     "duration": 0.058412,
     "end_time": "2020-08-13T16:48:37.062896",
     "exception": false,
     "start_time": "2020-08-13T16:48:37.004484",
     "status": "completed"
    },
    "tags": []
   },
   "outputs": [],
   "source": [
    "model.compile(loss='binary_crossentropy',optimizer='adam',metrics=['accuracy'])"
   ]
  },
  {
   "cell_type": "code",
   "execution_count": null,
   "metadata": {
    "_cell_guid": "4dc78c55-0cdb-448a-bc6e-b7244224466b",
    "_uuid": "bd1e96b5-db0b-4309-aa87-84b73fddc6a7",
    "papermill": {
     "duration": 0.248891,
     "end_time": "2020-08-13T16:48:37.345726",
     "exception": false,
     "start_time": "2020-08-13T16:48:37.096835",
     "status": "completed"
    },
    "tags": []
   },
   "outputs": [],
   "source": [
    "x_train,x_val,y_train,y_val = train_test_split(x_train_val,y,test_size=0.3)"
   ]
  },
  {
   "cell_type": "code",
   "execution_count": null,
   "metadata": {
    "_cell_guid": "af60e117-f5f6-490e-818c-fc034efefb36",
    "_uuid": "efda0384-7227-4e46-95da-b424b2e1e469",
    "papermill": {
     "duration": 1908.360947,
     "end_time": "2020-08-13T17:20:25.747884",
     "exception": false,
     "start_time": "2020-08-13T16:48:37.386937",
     "status": "completed"
    },
    "tags": []
   },
   "outputs": [],
   "source": [
    "batch_size= 32\n",
    "epochs = 5\n",
    "hist = model.fit(x_train,y_train,\n",
    "                    batch_size= batch_size,\n",
    "                    epochs=epochs,\n",
    "                    validation_data=(x_val,y_val))"
   ]
  },
  {
   "cell_type": "code",
   "execution_count": null,
   "metadata": {
    "_cell_guid": "151d38bb-4511-4414-a765-61d0a86670b3",
    "_uuid": "47612922-ebee-4c59-ad45-138bd04005f3",
    "papermill": {
     "duration": 0.968511,
     "end_time": "2020-08-13T17:20:27.434931",
     "exception": false,
     "start_time": "2020-08-13T17:20:26.466420",
     "status": "completed"
    },
    "tags": []
   },
   "outputs": [],
   "source": [
    "# Plot loss\n",
    "plt.plot(hist.history['loss'], label='Treino')\n",
    "plt.plot(hist.history['val_loss'], label='Validação')\n",
    "plt.xlabel('\\nÉpocas')\n",
    "plt.ylabel('Perda\\n')\n",
    "plt.title('Perda por época (CNN)\\n')\n",
    "plt.legend()\n",
    "plt.show()"
   ]
  },
  {
   "cell_type": "code",
   "execution_count": null,
   "metadata": {
    "_cell_guid": "4f765196-c7ba-4559-858a-be9af7115536",
    "_uuid": "7029fb20-27eb-42c9-aee9-4eb79db8ae0f",
    "papermill": {
     "duration": 0.943961,
     "end_time": "2020-08-13T17:20:29.168779",
     "exception": false,
     "start_time": "2020-08-13T17:20:28.224818",
     "status": "completed"
    },
    "tags": []
   },
   "outputs": [],
   "source": [
    "# Plot accuracy\n",
    "plt.plot(hist.history['accuracy'], label='Treino')\n",
    "plt.plot(hist.history['val_accuracy'], label='Validação')\n",
    "plt.xlabel('\\nÉpocas')\n",
    "plt.ylabel('Acurácia\\n')\n",
    "plt.title('Acurácia por época (CNN)\\n')\n",
    "plt.legend()\n",
    "plt.show()"
   ]
  },
  {
   "cell_type": "code",
   "execution_count": null,
   "metadata": {
    "_cell_guid": "24712e25-6e27-4b3e-9120-c2d09557c7f6",
    "_uuid": "7f4815c1-1105-4a99-86ec-2566d41a1182",
    "jupyter": {
     "source_hidden": true
    },
    "papermill": {
     "duration": 1.164536,
     "end_time": "2020-08-13T17:20:31.149595",
     "exception": false,
     "start_time": "2020-08-13T17:20:29.985059",
     "status": "completed"
    },
    "tags": []
   },
   "outputs": [],
   "source": [
    "test_df = pd.read_csv('AuxData/toxic_test.csv')"
   ]
  },
  {
   "cell_type": "code",
   "execution_count": null,
   "metadata": {
    "jupyter": {
     "source_hidden": true
    }
   },
   "outputs": [],
   "source": [
    "test_df.columns"
   ]
  },
  {
   "cell_type": "code",
   "execution_count": null,
   "metadata": {
    "_cell_guid": "66e6d3a5-4990-4162-a4a0-b3e47e4b7b4e",
    "_uuid": "c0d463e6-72cd-40ec-9a38-32925ca7c2e4",
    "papermill": {
     "duration": 0.734174,
     "end_time": "2020-08-13T17:20:32.692303",
     "exception": false,
     "start_time": "2020-08-13T17:20:31.958129",
     "status": "completed"
    },
    "tags": []
   },
   "outputs": [],
   "source": [
    "x_test = test_df['comment_text'].values\n",
    "y_test = test_df['toxic'].values"
   ]
  },
  {
   "cell_type": "code",
   "execution_count": null,
   "metadata": {
    "_cell_guid": "cc4b0e97-598c-4dcd-b58b-ecb650ced8d6",
    "_uuid": "bd6e4020-5a01-407a-ae22-f5a33157f454",
    "papermill": {
     "duration": 7.181789,
     "end_time": "2020-08-13T17:20:40.656296",
     "exception": false,
     "start_time": "2020-08-13T17:20:33.474507",
     "status": "completed"
    },
    "tags": []
   },
   "outputs": [],
   "source": [
    "x_test_tokenized = x_tokenizer.texts_to_sequences(x_test)\n",
    "x_testing = sequence.pad_sequences(x_test_tokenized,maxlen=max_text_length)"
   ]
  },
  {
   "cell_type": "code",
   "execution_count": null,
   "metadata": {
    "_cell_guid": "5175f91e-85a3-4bdf-a619-061a994d53ec",
    "_uuid": "e18074c2-d320-4dee-a826-332f42a2be8d",
    "papermill": {
     "duration": 85.074749,
     "end_time": "2020-08-13T17:22:06.464681",
     "exception": false,
     "start_time": "2020-08-13T17:20:41.389932",
     "status": "completed"
    },
    "tags": []
   },
   "outputs": [],
   "source": [
    "y_pred = model.predict(x_testing,verbose=1,batch_size=32)"
   ]
  },
  {
   "cell_type": "code",
   "execution_count": null,
   "metadata": {
    "_cell_guid": "dc263722-3053-47d9-8c4b-d34a441834ba",
    "_uuid": "b8970558-6a92-4618-ab9f-68a901462340",
    "papermill": {
     "duration": 1.119659,
     "end_time": "2020-08-13T17:22:08.394334",
     "exception": false,
     "start_time": "2020-08-13T17:22:07.274675",
     "status": "completed"
    },
    "tags": []
   },
   "outputs": [],
   "source": [
    "y_pred = [0 if y[0] < 0.5 else 1 for y in y_pred]"
   ]
  },
  {
   "cell_type": "code",
   "execution_count": null,
   "metadata": {
    "_cell_guid": "188ebea6-bd38-4a64-a217-11423b863778",
    "_uuid": "9b86f797-a687-4362-8167-13f52513291a",
    "papermill": {
     "duration": 0.917062,
     "end_time": "2020-08-13T17:22:10.118838",
     "exception": false,
     "start_time": "2020-08-13T17:22:09.201776",
     "status": "completed"
    },
    "tags": []
   },
   "outputs": [],
   "source": [
    "print(\"Accuracy: {:.2f}%\".format(accuracy_score(y_test, y_pred) * 100))"
   ]
  },
  {
   "cell_type": "code",
   "execution_count": null,
   "metadata": {
    "_cell_guid": "af5444e4-989a-4121-859b-9dc336a9e60b",
    "_uuid": "b4f05ef0-ea5b-48d2-8eef-d0ccbe64c4f5",
    "papermill": {
     "duration": 0.921468,
     "end_time": "2020-08-13T17:22:11.930844",
     "exception": false,
     "start_time": "2020-08-13T17:22:11.009376",
     "status": "completed"
    },
    "tags": []
   },
   "outputs": [],
   "source": [
    "print(\"F1 Score: {:.6f}\".format(f1_score(y_test, y_pred, average='macro')))"
   ]
  },
  {
   "cell_type": "code",
   "execution_count": null,
   "metadata": {
    "_cell_guid": "3db31a21-df1e-4a5c-b5f7-cc9057b96a60",
    "_uuid": "1e7c4264-0f98-4370-8a52-75e634bad985",
    "collapsed": true,
    "jupyter": {
     "outputs_hidden": true,
     "source_hidden": true
    },
    "papermill": {
     "duration": 1.217001,
     "end_time": "2020-08-13T17:22:14.003199",
     "exception": false,
     "start_time": "2020-08-13T17:22:12.786198",
     "status": "completed"
    },
    "tags": []
   },
   "outputs": [],
   "source": [
    "cm = confusion_matrix(y_test, y_pred)\n",
    "\n",
    "plt.figure(figsize=(10, 10))\n",
    "sns.heatmap(cm, annot=True, fmt=\"d\", cmap='Blues')\n",
    "plt.title(\"Matriz de Confusão\")\n",
    "plt.xlabel(\"\\nRedes Neurais Convolucionais\")\n",
    "plt.ylabel(\"Valor real\\n\")"
   ]
  },
  {
   "cell_type": "code",
   "execution_count": null,
   "metadata": {
    "_cell_guid": "ad6f95ac-ab01-420f-afa6-7d4a562ea877",
    "_uuid": "c9dc8d64-5717-4d2b-9af7-91116d9b1e95",
    "papermill": {
     "duration": 0.818034,
     "end_time": "2020-08-13T17:22:15.678377",
     "exception": false,
     "start_time": "2020-08-13T17:22:14.860343",
     "status": "completed"
    },
    "tags": []
   },
   "outputs": [],
   "source": [
    "test_df['CNN_HS'] = y_pred\n",
    "test_df.CNN_HS.value_counts()"
   ]
  }
 ],
 "metadata": {
  "kernelspec": {
   "display_name": "Python 3",
   "language": "python",
   "name": "python3"
  },
  "language_info": {
   "codemirror_mode": {
    "name": "ipython",
    "version": 3
   },
   "file_extension": ".py",
   "mimetype": "text/x-python",
   "name": "python",
   "nbconvert_exporter": "python",
   "pygments_lexer": "ipython3",
   "version": "3.8.5"
  },
  "papermill": {
   "duration": 2100.401272,
   "end_time": "2020-08-13T17:22:22.527452",
   "environment_variables": {},
   "exception": null,
   "input_path": "__notebook__.ipynb",
   "output_path": "__notebook__.ipynb",
   "parameters": {},
   "start_time": "2020-08-13T16:47:22.126180",
   "version": "2.1.0"
  }
 },
 "nbformat": 4,
 "nbformat_minor": 4
}