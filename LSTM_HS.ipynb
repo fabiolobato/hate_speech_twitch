{
 "cells": [
  {
   "cell_type": "code",
   "execution_count": null,
   "metadata": {
    "id": "cj9NXWy3zd4T",
    "outputId": "0d72ee04-eea7-42f6-e1f0-d7fccc461a9a"
   },
   "outputs": [],
   "source": [
    "import random\n",
    "\n",
    "SEED = 32\n",
    "random.seed(SEED)\n",
    "\n",
    "import numpy as np \n",
    "import pandas as pd\n",
    "import spacy\n",
    "\n",
    "from sklearn.metrics import accuracy_score\n",
    "from sklearn.metrics import f1_score\n",
    "\n",
    "from torch import nn\n",
    "import torch\n",
    "from torchtext import data\n",
    "from torch.nn  import functional as F\n",
    "import torch.optim as  optim \n",
    "if torch.cuda.is_available():  \n",
    "  dev = \"gpu\"\n",
    "else:  \n",
    "  dev = \"cpu\"  \n",
    "device = torch.device(dev)\n",
    "print(dev)"
   ]
  },
  {
   "cell_type": "code",
   "execution_count": null,
   "metadata": {
    "id": "k5O16FLBzhuC",
    "outputId": "6f53909e-a92b-46c6-ed25-95a67abfc8ca"
   },
   "outputs": [],
   "source": [
    "import nltk\n",
    "nltk.download(\"punkt\")\n",
    "\n",
    "import re\n",
    "from spacy.tokenizer import Tokenizer\n",
    "from spacy.lang.en import English\n",
    "nlp = English()\n",
    "\n",
    "tokenizer = Tokenizer(nlp.vocab)\n",
    "\n",
    "from nltk import word_tokenize,sent_tokenize\n",
    "from nltk.stem  import PorterStemmer\n",
    "\n",
    "\n",
    "from nltk.corpus import stopwords\n",
    "from nltk.stem import SnowballStemmer\n",
    "\n",
    "nltk.download('stopwords')\n",
    "stops = stopwords.words(\"english\")\n",
    "\n",
    "\n",
    "def removepunc(my_str): # function to remove punctuation\n",
    "    punctuations = '''!()-[]{};:'\"\\,<>./?@#$%^&*_~'''\n",
    "    no_punct = \"\"\n",
    "    for char in my_str:\n",
    "        if char not in punctuations:\n",
    "            no_punct = no_punct + char\n",
    "    return no_punct\n",
    "\n",
    "def hasNumbers(inputString):\n",
    "    return bool(re.search(r'\\d', inputString))\n",
    "snowstem = SnowballStemmer(\"english\")\n",
    "portstem = PorterStemmer()\n"
   ]
  },
  {
   "cell_type": "code",
   "execution_count": null,
   "metadata": {
    "id": "elXvdWQyzkDw"
   },
   "outputs": [],
   "source": [
    "traindata = pd.read_csv(\"AuxData/toxic_train.csv\")\n",
    "testdata  = pd.read_csv(\"AuxData/toxic_test.csv\")\n",
    "\n",
    "traindata.drop(\"Unnamed: 0\",axis=1,inplace=True)\n",
    "testdata.drop(\"Unnamed: 0\",axis=1,inplace=True)"
   ]
  },
  {
   "cell_type": "code",
   "execution_count": null,
   "metadata": {},
   "outputs": [],
   "source": [
    "test = pd.DataFrame({'tweet': test.tweet.values.tolist(), 'toxic': test['class'].values.tolist()})"
   ]
  },
  {
   "cell_type": "code",
   "execution_count": null,
   "metadata": {
    "id": "lTDXODNhzwwz"
   },
   "outputs": [],
   "source": [
    "def myTokenizer(x):\n",
    " return  [snowstem.stem(word.text)for word in \n",
    "          tokenizer(removepunc(re.sub(r\"\\s+\\s+\",\" \",re.sub(r\"[^A-Za-z0-9()!?\\'\\`\\\"\\r+\\n+]\",\" \",x.lower()))).strip()) \n",
    "          if (word.text not in stops and not hasNumbers(word.text)) ]"
   ]
  },
  {
   "cell_type": "code",
   "execution_count": null,
   "metadata": {
    "id": "udmV7yOmPNt6"
   },
   "outputs": [],
   "source": [
    "TEXT = data.Field(tokenize=myTokenizer,batch_first=True,fix_length=140)\n",
    "LABEL = data.LabelField(dtype=torch.float ,batch_first=True)\n",
    "\n",
    "class DataFrameDataset(data.Dataset):\n",
    "    def __init__(self, df, text_field, label_field, is_test=False, **kwargs):\n",
    "        fields = [('comment_text', text_field), ('toxic', label_field)]\n",
    "        examples = []\n",
    "        for i, row in df.iterrows():\n",
    "            label = row.toxic\n",
    "            text = row.comment_text\n",
    "            examples.append(data.Example.fromlist([text, label], fields))\n",
    "\n",
    "        super().__init__(examples, fields, **kwargs)\n",
    "\n",
    "torchdataset = DataFrameDataset(traindata, TEXT,LABEL)\n",
    "torchtest    = DataFrameDataset(testdata, TEXT,LABEL)"
   ]
  },
  {
   "cell_type": "code",
   "execution_count": null,
   "metadata": {
    "id": "-f1hgGywizQT"
   },
   "outputs": [],
   "source": [
    "train_data, valid_data = torchdataset.split(split_ratio=0.8, random_state = random.seed(SEED))"
   ]
  },
  {
   "cell_type": "code",
   "execution_count": null,
   "metadata": {
    "id": "O6PUzivRJvL_"
   },
   "outputs": [],
   "source": [
    "TEXT.build_vocab(train_data,min_freq=3)  \n",
    "LABEL.build_vocab(train_data)"
   ]
  },
  {
   "cell_type": "code",
   "execution_count": null,
   "metadata": {
    "id": "QojEJaoBVTJj",
    "outputId": "528174ce-a162-47bf-edb4-ab3358bf296a"
   },
   "outputs": [],
   "source": [
    "#No. of unique tokens in text\n",
    "print(\"Size of TEXT vocabulary:\",len(TEXT.vocab))\n",
    "\n",
    "#No. of unique tokens in label\n",
    "print(\"Size of LABEL vocabulary:\",len(LABEL.vocab))\n",
    "\n",
    "#Commonly used words\n",
    "print(TEXT.vocab.freqs.most_common(10))  "
   ]
  },
  {
   "cell_type": "code",
   "execution_count": null,
   "metadata": {
    "id": "JVrwFrmTqHzc"
   },
   "outputs": [],
   "source": [
    "#set batch size\n",
    "BATCH_SIZE = 128\n",
    "\n",
    "train_iterator,valid_iterator,test_iterator = data.BucketIterator.splits(\n",
    "    (train_data,valid_data,torchtest), \n",
    "    batch_size = BATCH_SIZE,\n",
    "    device = device,\n",
    "    sort =False,\n",
    "shuffle=False)"
   ]
  },
  {
   "cell_type": "code",
   "execution_count": null,
   "metadata": {
    "id": "QA57LLmjMCX3",
    "outputId": "964eb82a-0855-4675-a5c7-7ae4f6859d1e"
   },
   "outputs": [],
   "source": [
    "class TextTransformer(nn.Module):\n",
    "  def __init__(self):\n",
    "    super(TextTransformer,self).__init__()\n",
    "    self.wordEmbeddings = nn.Embedding(len(TEXT.vocab),140)\n",
    "    self.positionEmbeddings = nn.Embedding(140,20)\n",
    "    self.transformerLayer = nn.TransformerEncoderLayer(160,8) \n",
    "    self.linear1 = nn.Linear(160,  64)\n",
    "    self.linear2 = nn.Linear(64,  1)\n",
    "    self.linear3 = nn.Linear(140,  16)\n",
    "    self.linear4 = nn.Linear(16,  1)\n",
    "  def forward(self,x):\n",
    "    positions = (torch.arange(0,140).reshape(1,140) + torch.zeros(x.shape[0],140)).to(device) \n",
    "    # broadcasting the tensor of positions \n",
    "    sentence = torch.cat((self.wordEmbeddings(x.long()),self.positionEmbeddings(positions.long())),axis=2)\n",
    "    attended = self.transformerLayer(sentence)\n",
    "    linear1 = F.relu(self.linear1(attended))\n",
    "    linear2 = F.relu(self.linear2(linear1))\n",
    "    linear2 = linear2.view(-1,140) # reshaping the layer as the transformer outputs a 2d tensor (or 3d considering the batch size)\n",
    "    linear3 = F.relu(self.linear3(linear2))\n",
    "    out = torch.sigmoid(self.linear4(linear3))\n",
    "    return out\n",
    "\n",
    "myTransformer = TextTransformer()\n",
    "myTransformer.to(device)"
   ]
  },
  {
   "cell_type": "code",
   "execution_count": null,
   "metadata": {},
   "outputs": [],
   "source": [
    "lstm_loss     = {\n",
    "    'train': [],\n",
    "    'validation': []\n",
    "}\n",
    "\n",
    "lstm_accuracy     = {\n",
    "    'train': [],\n",
    "    'validation': []\n",
    "}"
   ]
  },
  {
   "cell_type": "code",
   "execution_count": null,
   "metadata": {
    "id": "OQOBpRBUAyAk"
   },
   "outputs": [],
   "source": [
    "def calculateMetrics(ypred,ytrue,ty):\n",
    "    acc  = accuracy_score(ytrue,ypred)\n",
    "    f1  = f1_score(ytrue,ypred)\n",
    "    f1_average  = f1_score(ytrue,ypred,average=\"macro\")\n",
    "    \n",
    "    if ty == 'train':\n",
    "        lstm_accuracy['train'].append(round(acc,3))\n",
    "        \n",
    "    if ty == 'val':\n",
    "        lstm_accuracy['validation'].append(round(acc,3))\n",
    "\n",
    "    return \" f1 score: \"+str(round(f1,3))+\" f1 average: \"+str(round(f1_average,3))+\" accuracy: \"+str(round(acc,3))"
   ]
  },
  {
   "cell_type": "code",
   "execution_count": null,
   "metadata": {
    "id": "zbLZTzgxJRIA",
    "outputId": "21fbc41e-a284-4267-d3ca-0c10387db2a7"
   },
   "outputs": [],
   "source": [
    "\"\"\"\n",
    "using adagrad because it assign bigger updates to less frequently updated weights \n",
    "(like words that are not used many times)\n",
    "\n",
    "\"\"\"\n",
    "from progressbar import progressbar\n",
    "optimizer = optim.Adagrad(myTransformer.parameters(),lr = 0.001)\n",
    "\n",
    "for i in progressbar(range(20)):\n",
    "    trainpreds = torch.tensor([])\n",
    "    traintrues = torch.tensor([])\n",
    "    for batch in train_iterator:\n",
    "        X = batch.comment_text\n",
    "        y = batch.toxic\n",
    "        myTransformer.zero_grad()\n",
    "        pred = myTransformer(X).squeeze()\n",
    "        trainpreds = torch.cat((trainpreds,pred.cpu().detach()))\n",
    "        traintrues = torch.cat((traintrues,y.cpu().detach()))\n",
    "        err = F.binary_cross_entropy(pred,y)\n",
    "        err.backward()\n",
    "        optimizer.step()\n",
    "    err = F.binary_cross_entropy(trainpreds,traintrues)\n",
    "    lstm_loss['train'].append(err.item())\n",
    "    print(\"train BCE loss: \",err.item(),calculateMetrics(torch.round(trainpreds).numpy(),traintrues.numpy(), 'train'))\n",
    " \n",
    "\n",
    "    valpreds = torch.tensor([])\n",
    "    valtrues = torch.tensor([])\n",
    "    for batch in valid_iterator:\n",
    "        X = batch.comment_text\n",
    "        y = batch.toxic\n",
    "        valtrues = torch.cat((valtrues,y.cpu().detach()))\n",
    "        pred = myTransformer(X).squeeze().cpu().detach()\n",
    "        valpreds = torch.cat((valpreds,pred))\n",
    "    err = F.binary_cross_entropy(valpreds,valtrues)\n",
    "    lstm_loss['validation'].append(err.item())\n",
    "    print(\"validation BCE loss: \",err.item(),calculateMetrics(torch.round(valpreds).numpy(),valtrues.numpy(), 'val'))"
   ]
  },
  {
   "cell_type": "code",
   "execution_count": null,
   "metadata": {},
   "outputs": [],
   "source": [
    "import seaborn as sns\n",
    "import matplotlib.pyplot as plt\n",
    "plt.style.use('fivethirtyeight')\n",
    "\n",
    "# Plot loss\n",
    "plt.plot(lstm_loss['train'], label='Treino')\n",
    "plt.plot(lstm_loss['validation'], label='Validação')\n",
    "plt.xlabel('\\nÉpocas')\n",
    "plt.ylabel('Perda\\n')\n",
    "plt.title('Perda por época (LSTM)\\n')\n",
    "plt.legend()\n",
    "plt.show()"
   ]
  },
  {
   "cell_type": "code",
   "execution_count": null,
   "metadata": {},
   "outputs": [],
   "source": [
    "# Plot accuracy\n",
    "plt.plot(lstm_accuracy['train'], label='Treino')\n",
    "plt.plot(lstm_accuracy['validation'], label='Validação')\n",
    "plt.xlabel('\\nÉpocas')\n",
    "plt.ylabel('Acurácia\\n')\n",
    "plt.title('Acurácia por época (LSTM)\\n')\n",
    "plt.legend()\n",
    "plt.show()"
   ]
  },
  {
   "cell_type": "code",
   "execution_count": null,
   "metadata": {
    "id": "vordglMh4GGC",
    "outputId": "b65b56fa-c86c-449d-8c97-83e479f537fa"
   },
   "outputs": [],
   "source": [
    "for i in progressbar(range(1)):\n",
    "    testpreds = torch.tensor([])\n",
    "    testtrues = torch.tensor([])\n",
    "    for batch in test_iterator:\n",
    "        X = batch.comment_text\n",
    "        y = batch.toxic\n",
    "        testtrues = torch.cat((testtrues,y.cpu().detach()))\n",
    "        pred = myTransformer(X).squeeze().cpu().detach()\n",
    "        # print(valtrues.shape)\n",
    "        testpreds = torch.cat((testpreds,pred))\n",
    "    err = F.binary_cross_entropy(testpreds,testtrues)\n",
    "    print(\"test BCE loss: \",err.item(),calculateMetrics(torch.round(testpreds).numpy(),testtrues.numpy()))"
   ]
  },
  {
   "cell_type": "code",
   "execution_count": null,
   "metadata": {},
   "outputs": [],
   "source": [
    "testdata['LSTM_HS'] = torch.round(testpreds).numpy()\n",
    "\n",
    "LSTM = []\n",
    "\n",
    "for i in testdata.LSTM_HS.values.tolist():\n",
    "    LSTM.append(int(i))\n",
    "    \n",
    "testdata['LSTM_HS'] = LSTM\n",
    "testdata.LSTM_HS.value_counts()"
   ]
  }
 ],
 "metadata": {
  "kernelspec": {
   "display_name": "Python 3",
   "language": "python",
   "name": "python3"
  },
  "language_info": {
   "codemirror_mode": {
    "name": "ipython",
    "version": 3
   },
   "file_extension": ".py",
   "mimetype": "text/x-python",
   "name": "python",
   "nbconvert_exporter": "python",
   "pygments_lexer": "ipython3",
   "version": "3.8.5"
  }
 },
 "nbformat": 4,
 "nbformat_minor": 4
}